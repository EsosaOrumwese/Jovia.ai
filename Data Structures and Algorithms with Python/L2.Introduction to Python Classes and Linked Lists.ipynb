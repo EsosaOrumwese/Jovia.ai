{
 "cells": [
  {
   "cell_type": "markdown",
   "metadata": {},
   "source": [
    "# Introduction to Python Classes and Linked Lists\n",
    "\n",
    "## Problem\n",
    "\n",
    "In this notebook, we'll focus our discussion on the following problem:\n",
    "\n",
    "> **QUESTION**: Write a function to reverse a linked list\n",
    "\n",
    "Before we answer this question, we need to answer:\n",
    "\n",
    "- What do we mean by linked list? \n",
    "- How do we create a linked list in Python?\n",
    "- How do we store numbers in a linked list?\n",
    "- How do we retrieve numbers in a linked list"
   ]
  },
  {
   "cell_type": "markdown",
   "metadata": {},
   "source": [
    "## Linked List\n",
    "\n",
    "A linked list is a _data structure_ used for storing a sequence of elements. It's data with some structure (the sequence).\n",
    "\n",
    "![](https://cdn.programiz.com/sites/tutorial2program/files/linked-list-concept_0.png)\n",
    "\n",
    "We'll implement linked lists which support the following operations:\n",
    "\n",
    "- Create a list with given elements\n",
    "- Display the elements in a list\n",
    "- Find the number of elements in a list\n",
    "- Retrieve the element at a given position\n",
    "- Add or remove element(s)\n",
    "- etc."
   ]
  },
  {
   "cell_type": "markdown",
   "metadata": {},
   "source": [
    "### A Quick Primer on Classes in Python\n",
    "\n",
    "Let's create a class for it. A class is a blueprint for creating objects. "
   ]
  },
  {
   "cell_type": "code",
   "execution_count": 1,
   "metadata": {},
   "outputs": [],
   "source": [
    "class Node():\n",
    "      pass"
   ]
  },
  {
   "cell_type": "markdown",
   "metadata": {},
   "source": [
    "We can create an object with nothing in it."
   ]
  },
  {
   "cell_type": "code",
   "execution_count": 2,
   "metadata": {},
   "outputs": [
    {
     "data": {
      "text/plain": [
       "<__main__.Node at 0x21c19e68f40>"
      ]
     },
     "execution_count": 2,
     "metadata": {},
     "output_type": "execute_result"
    }
   ],
   "source": [
    "Node()"
   ]
  },
  {
   "cell_type": "markdown",
   "metadata": {},
   "source": [
    "We just created an object of the class `Node`. However, we have to have a way to access the object. We can do so by creating a variable."
   ]
  },
  {
   "cell_type": "code",
   "execution_count": 3,
   "metadata": {},
   "outputs": [],
   "source": [
    "node1 = Node()"
   ]
  },
  {
   "cell_type": "code",
   "execution_count": 4,
   "metadata": {},
   "outputs": [
    {
     "data": {
      "text/plain": [
       "<__main__.Node at 0x21c19390400>"
      ]
     },
     "execution_count": 4,
     "metadata": {},
     "output_type": "execute_result"
    }
   ],
   "source": [
    "node1"
   ]
  },
  {
   "cell_type": "markdown",
   "metadata": {},
   "source": [
    "The *variable* `node1` holds a reference, the object, and can be used to retrieve the object. We can call the `Node()` again, it creates a new object."
   ]
  },
  {
   "cell_type": "code",
   "execution_count": 5,
   "metadata": {},
   "outputs": [],
   "source": [
    "node2 = Node()"
   ]
  },
  {
   "cell_type": "code",
   "execution_count": 6,
   "metadata": {},
   "outputs": [
    {
     "data": {
      "text/plain": [
       "<__main__.Node at 0x21c19390040>"
      ]
     },
     "execution_count": 6,
     "metadata": {},
     "output_type": "execute_result"
    }
   ],
   "source": [
    "node2"
   ]
  },
  {
   "cell_type": "markdown",
   "metadata": {},
   "source": [
    "You can tell that the objects are different because they are at different addresses in the RAM (more on that later).\n",
    "\n",
    "We can have multiple variables pointing to the same object."
   ]
  },
  {
   "cell_type": "code",
   "execution_count": 7,
   "metadata": {},
   "outputs": [],
   "source": [
    "node3 = node1"
   ]
  },
  {
   "cell_type": "code",
   "execution_count": 8,
   "metadata": {},
   "outputs": [
    {
     "data": {
      "text/plain": [
       "<__main__.Node at 0x21c19390400>"
      ]
     },
     "execution_count": 8,
     "metadata": {},
     "output_type": "execute_result"
    }
   ],
   "source": [
    "node3"
   ]
  },
  {
   "cell_type": "markdown",
   "metadata": {},
   "source": [
    "Our object isn't doing much. Let's give it the ability to store a value. First, we'll store the constant value 0. We can do this using a ***constructor***."
   ]
  },
  {
   "cell_type": "code",
   "execution_count": 9,
   "metadata": {},
   "outputs": [],
   "source": [
    "class Node():\n",
    "      def __init__(self):\n",
    "            self.data = 0"
   ]
  },
  {
   "cell_type": "markdown",
   "metadata": {},
   "source": [
    "Two things to note:\n",
    "* The double underscores\n",
    "* The self (a replacement for `this`)\n",
    "* `self.data` creates a property called. We can name a property anything we wish (`val`, `number`, `the_thing_inside` etc. )\n",
    "\n",
    "*Yeah...the note confused me too. When you figure it out, change it*"
   ]
  },
  {
   "cell_type": "code",
   "execution_count": 10,
   "metadata": {},
   "outputs": [],
   "source": [
    "node4 = Node()"
   ]
  },
  {
   "cell_type": "markdown",
   "metadata": {},
   "source": [
    "So internally what's happening is that \n",
    "\n",
    "- Python first creates an empty object, \n",
    "- stores the reference to the empty object in an temporary variable called `self`,\n",
    "- calls the `__init__` function with `self` as the argument, which then sets the property `data` on the created object with the value 0."
   ]
  },
  {
   "cell_type": "code",
   "execution_count": 11,
   "metadata": {},
   "outputs": [
    {
     "data": {
      "text/plain": [
       "0"
      ]
     },
     "execution_count": 11,
     "metadata": {},
     "output_type": "execute_result"
    }
   ],
   "source": [
    "node4.data"
   ]
  },
  {
   "cell_type": "markdown",
   "metadata": {},
   "source": [
    "And we can change the value inside the variable."
   ]
  },
  {
   "cell_type": "code",
   "execution_count": 12,
   "metadata": {},
   "outputs": [],
   "source": [
    "node4.data = 10"
   ]
  },
  {
   "cell_type": "code",
   "execution_count": 13,
   "metadata": {},
   "outputs": [
    {
     "data": {
      "text/plain": [
       "10"
      ]
     },
     "execution_count": 13,
     "metadata": {},
     "output_type": "execute_result"
    }
   ],
   "source": [
    "node4.data"
   ]
  },
  {
   "cell_type": "markdown",
   "metadata": {},
   "source": [
    "Let's create nodes with the values 2, 3 and 5"
   ]
  },
  {
   "cell_type": "code",
   "execution_count": 14,
   "metadata": {},
   "outputs": [],
   "source": [
    "node1 = Node()\n",
    "node1.data = 2"
   ]
  },
  {
   "cell_type": "code",
   "execution_count": 15,
   "metadata": {},
   "outputs": [],
   "source": [
    "node2 = Node()\n",
    "node2.data = 3"
   ]
  },
  {
   "cell_type": "code",
   "execution_count": 16,
   "metadata": {},
   "outputs": [],
   "source": [
    "node3 = Node()\n",
    "node3.data = 5"
   ]
  },
  {
   "cell_type": "code",
   "execution_count": 17,
   "metadata": {},
   "outputs": [
    {
     "data": {
      "text/plain": [
       "(2, 3, 5)"
      ]
     },
     "execution_count": 17,
     "metadata": {},
     "output_type": "execute_result"
    }
   ],
   "source": [
    "node1.data, node2.data, node3.data"
   ]
  },
  {
   "cell_type": "markdown",
   "metadata": {},
   "source": [
    "While this is OK, there's an easier way to do it."
   ]
  },
  {
   "cell_type": "code",
   "execution_count": 19,
   "metadata": {},
   "outputs": [],
   "source": [
    "class Node():\n",
    "      def __init__(self, a_number):\n",
    "            self.data = a_number\n",
    "            self.next = None"
   ]
  },
  {
   "cell_type": "code",
   "execution_count": 20,
   "metadata": {},
   "outputs": [],
   "source": [
    "node1 = Node(2)\n",
    "node2 = Node(3)\n",
    "node3 = Node(5)"
   ]
  },
  {
   "cell_type": "code",
   "execution_count": 21,
   "metadata": {},
   "outputs": [
    {
     "data": {
      "text/plain": [
       "(2, 3, 5)"
      ]
     },
     "execution_count": 21,
     "metadata": {},
     "output_type": "execute_result"
    }
   ],
   "source": [
    "node1.data, node2.data, node3.data"
   ]
  },
  {
   "cell_type": "markdown",
   "metadata": {},
   "source": [
    "Now, let's define a class for our linked list."
   ]
  },
  {
   "cell_type": "code",
   "execution_count": 22,
   "metadata": {},
   "outputs": [],
   "source": [
    "class LinkedList():\n",
    "      def __init__(self):\n",
    "            self.head = None"
   ]
  },
  {
   "cell_type": "code",
   "execution_count": 24,
   "metadata": {},
   "outputs": [],
   "source": [
    "list1 = LinkedList()"
   ]
  },
  {
   "cell_type": "code",
   "execution_count": 25,
   "metadata": {},
   "outputs": [],
   "source": [
    "list1.head = Node(2)"
   ]
  },
  {
   "cell_type": "code",
   "execution_count": 26,
   "metadata": {},
   "outputs": [],
   "source": [
    "list1.head.next = Node(3)"
   ]
  },
  {
   "cell_type": "code",
   "execution_count": 27,
   "metadata": {},
   "outputs": [],
   "source": [
    "list1.head.next.next = Node(4)"
   ]
  },
  {
   "cell_type": "code",
   "execution_count": 28,
   "metadata": {},
   "outputs": [
    {
     "data": {
      "text/plain": [
       "(2, 3, 4)"
      ]
     },
     "execution_count": 28,
     "metadata": {},
     "output_type": "execute_result"
    }
   ],
   "source": [
    "list1.head.data, list1.head.next.data, list1.head.next.next.data"
   ]
  },
  {
   "cell_type": "markdown",
   "metadata": {},
   "source": [
    "![](https://cdn.programiz.com/sites/tutorial2program/files/linked-list-concept_0.png)"
   ]
  },
  {
   "cell_type": "code",
   "execution_count": 29,
   "metadata": {},
   "outputs": [
    {
     "data": {
      "text/plain": [
       "(<__main__.Node at 0x21c19525b80>,\n",
       " <__main__.Node at 0x21c19525ac0>,\n",
       " <__main__.Node at 0x21c195250d0>)"
      ]
     },
     "execution_count": 29,
     "metadata": {},
     "output_type": "execute_result"
    }
   ],
   "source": [
    "list1.head, list1.head.next, list1.head.next.next"
   ]
  },
  {
   "cell_type": "markdown",
   "metadata": {},
   "source": [
    "While it's OK to set value like this, we can add a couple of arguments."
   ]
  },
  {
   "cell_type": "code",
   "execution_count": 30,
   "metadata": {},
   "outputs": [],
   "source": [
    "class LinkedList():\n",
    "      def __init__(self):\n",
    "            self.head = None\n",
    "            \n",
    "      def append(self, value):\n",
    "            if self.head is None:\n",
    "                  self.head = Node(value)\n",
    "            else: \n",
    "                  current_node = self.head\n",
    "                  while current_node.next is not None:\n",
    "                        current_node = current_node.next\n",
    "                  current_node.next = Node(value)"
   ]
  },
  {
   "cell_type": "code",
   "execution_count": 31,
   "metadata": {},
   "outputs": [],
   "source": [
    "list2 = LinkedList()\n",
    "list2.append(2)\n",
    "list2.append(3)\n",
    "list2.append(5)"
   ]
  },
  {
   "cell_type": "code",
   "execution_count": 32,
   "metadata": {},
   "outputs": [
    {
     "data": {
      "text/plain": [
       "(2, 3, 5)"
      ]
     },
     "execution_count": 32,
     "metadata": {},
     "output_type": "execute_result"
    }
   ],
   "source": [
    "list2.head.data, list2.head.next.data, list2.head.next.next.data"
   ]
  },
  {
   "cell_type": "markdown",
   "metadata": {},
   "source": [
    "Next, let's add a method to print the value in a list."
   ]
  },
  {
   "cell_type": "code",
   "execution_count": 33,
   "metadata": {},
   "outputs": [],
   "source": [
    "class LinkedList():\n",
    "      def __init__(self):\n",
    "            self.head = None\n",
    "            \n",
    "      def append(self, value):\n",
    "            if self.head is None:\n",
    "                  self.head = Node(value)\n",
    "            else: \n",
    "                  current_node = self.head\n",
    "                  while current_node.next is not None:\n",
    "                        current_node = current_node.next\n",
    "                  current_node.next = Node(value)\n",
    "                  \n",
    "      def show_elements(self):\n",
    "            current = self.head\n",
    "            while current is not None:\n",
    "                  print(current.data)\n",
    "                  current = current.next"
   ]
  },
  {
   "cell_type": "code",
   "execution_count": 34,
   "metadata": {},
   "outputs": [],
   "source": [
    "list2 = LinkedList()\n",
    "list2.append(2)\n",
    "list2.append(3)\n",
    "list2.append(5)"
   ]
  },
  {
   "cell_type": "code",
   "execution_count": 37,
   "metadata": {},
   "outputs": [
    {
     "name": "stdout",
     "output_type": "stream",
     "text": [
      "2\n",
      "3\n",
      "5\n"
     ]
    }
   ],
   "source": [
    "list2.show_elements()"
   ]
  },
  {
   "cell_type": "markdown",
   "metadata": {},
   "source": [
    "Let's add a couple of more functions: `length` and `get_element` to get an element at a specific position."
   ]
  },
  {
   "cell_type": "code",
   "execution_count": 38,
   "metadata": {},
   "outputs": [],
   "source": [
    "class LinkedList():\n",
    "      def __init__(self):\n",
    "            self.head = None\n",
    "            \n",
    "      def append(self, value):\n",
    "            if self.head is None:\n",
    "                  self.head = Node(value)\n",
    "            else: \n",
    "                  current_node = self.head\n",
    "                  while current_node.next is not None:\n",
    "                        current_node = current_node.next\n",
    "                  current_node.next = Node(value)\n",
    "                  \n",
    "      def show_elements(self):\n",
    "            current = self.head\n",
    "            while current is not None:\n",
    "                  print(current.data)\n",
    "                  current = current.next\n",
    "                  \n",
    "      def length(self):\n",
    "            result = 0\n",
    "            current = self.head\n",
    "            while current is not None:\n",
    "                  result += 1\n",
    "                  current = current.next\n",
    "            return result\n",
    "      \n",
    "      def get_element(self, position):\n",
    "            i = 0\n",
    "            current = self.head\n",
    "            while current is not None:\n",
    "                  if i == position:\n",
    "                        return current.data\n",
    "                  current = current.next\n",
    "                  i += 1\n",
    "            return None"
   ]
  },
  {
   "cell_type": "code",
   "execution_count": 39,
   "metadata": {},
   "outputs": [],
   "source": [
    "list2 = LinkedList()\n",
    "list2.append(2)\n",
    "list2.append(3)\n",
    "list2.append(5)\n",
    "list2.append(9)"
   ]
  },
  {
   "cell_type": "code",
   "execution_count": 40,
   "metadata": {},
   "outputs": [
    {
     "data": {
      "text/plain": [
       "4"
      ]
     },
     "execution_count": 40,
     "metadata": {},
     "output_type": "execute_result"
    }
   ],
   "source": [
    "list2.length()"
   ]
  },
  {
   "cell_type": "code",
   "execution_count": 41,
   "metadata": {},
   "outputs": [
    {
     "data": {
      "text/plain": [
       "2"
      ]
     },
     "execution_count": 41,
     "metadata": {},
     "output_type": "execute_result"
    }
   ],
   "source": [
    "list2.get_element(0)"
   ]
  },
  {
   "cell_type": "code",
   "execution_count": 43,
   "metadata": {},
   "outputs": [
    {
     "name": "stdout",
     "output_type": "stream",
     "text": [
      "2\n",
      "3\n",
      "5\n",
      "9\n"
     ]
    }
   ],
   "source": [
    "list2.show_elements()"
   ]
  },
  {
   "cell_type": "code",
   "execution_count": 44,
   "metadata": {},
   "outputs": [
    {
     "data": {
      "text/plain": [
       "5"
      ]
     },
     "execution_count": 44,
     "metadata": {},
     "output_type": "execute_result"
    }
   ],
   "source": [
    "list2.get_element(2)"
   ]
  },
  {
   "cell_type": "markdown",
   "metadata": {},
   "source": [
    "Given a list of size `N`, the the number of statements executed for each of the steps:\n",
    "\n",
    "- `append`: N steps\n",
    "- `length`: N steps\n",
    "- `get_element`: N steps\n",
    "- `show_element`: N steps"
   ]
  },
  {
   "cell_type": "markdown",
   "metadata": {},
   "source": [
    "## Reversing a Linked List - Solution\n",
    "\n",
    "Here's a simple program to reverse a linked list."
   ]
  },
  {
   "cell_type": "code",
   "execution_count": 45,
   "metadata": {},
   "outputs": [],
   "source": [
    "def reverse(l):\n",
    "      if l.head is None:\n",
    "            return\n",
    "      \n",
    "      current_node = l.head\n",
    "      prev_node = None\n",
    "      \n",
    "      while current_node is not None:\n",
    "            # track the next node\n",
    "            next_node = current_node.next\n",
    "            \n",
    "            # modify the current node\n",
    "            current_node.next = prev_node\n",
    "            \n",
    "            # updaate prev and current\n",
    "            prev_node = current_node\n",
    "            current_node = next_node\n",
    "      \n",
    "      l.head = prev_node"
   ]
  },
  {
   "cell_type": "code",
   "execution_count": 46,
   "metadata": {},
   "outputs": [],
   "source": [
    "list2 = LinkedList()\n",
    "list2.append(2)\n",
    "list2.append(3)\n",
    "list2.append(5)\n",
    "list2.append(9)"
   ]
  },
  {
   "cell_type": "code",
   "execution_count": 47,
   "metadata": {},
   "outputs": [
    {
     "name": "stdout",
     "output_type": "stream",
     "text": [
      "2\n",
      "3\n",
      "5\n",
      "9\n"
     ]
    }
   ],
   "source": [
    "list2.show_elements()"
   ]
  },
  {
   "cell_type": "code",
   "execution_count": 48,
   "metadata": {},
   "outputs": [],
   "source": [
    "reverse(list2)"
   ]
  },
  {
   "cell_type": "code",
   "execution_count": 49,
   "metadata": {},
   "outputs": [
    {
     "name": "stdout",
     "output_type": "stream",
     "text": [
      "9\n",
      "5\n",
      "3\n",
      "2\n"
     ]
    }
   ],
   "source": [
    "list2.show_elements()"
   ]
  },
  {
   "cell_type": "markdown",
   "metadata": {},
   "source": [
    "More research to be done on Python Classes though."
   ]
  }
 ],
 "metadata": {
  "kernelspec": {
   "display_name": "Python 3.9.7 ('base')",
   "language": "python",
   "name": "python3"
  },
  "language_info": {
   "codemirror_mode": {
    "name": "ipython",
    "version": 3
   },
   "file_extension": ".py",
   "mimetype": "text/x-python",
   "name": "python",
   "nbconvert_exporter": "python",
   "pygments_lexer": "ipython3",
   "version": "3.9.7"
  },
  "orig_nbformat": 4,
  "vscode": {
   "interpreter": {
    "hash": "1206a4f2d6f64ed28b08c3544e67299a5b762789ddcc45660f3f6eefedb1bf11"
   }
  }
 },
 "nbformat": 4,
 "nbformat_minor": 2
}
