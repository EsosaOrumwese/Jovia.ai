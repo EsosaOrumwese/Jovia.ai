{
 "cells": [
  {
   "cell_type": "code",
   "execution_count": 2,
   "metadata": {},
   "outputs": [],
   "source": [
    "def filter_even(number_list):\n",
    "      result_list = []\n",
    "      for number in number_list:\n",
    "            if number % 2 == 0:\n",
    "                  result_list.append(number)\n",
    "      return result_list"
   ]
  },
  {
   "cell_type": "code",
   "execution_count": 3,
   "metadata": {},
   "outputs": [],
   "source": [
    "even_list = filter_even([1,2,3,4,5,6,7])"
   ]
  },
  {
   "cell_type": "code",
   "execution_count": 4,
   "metadata": {},
   "outputs": [
    {
     "data": {
      "text/plain": [
       "[2, 4, 6]"
      ]
     },
     "execution_count": 4,
     "metadata": {},
     "output_type": "execute_result"
    }
   ],
   "source": [
    "even_list"
   ]
  },
  {
   "cell_type": "markdown",
   "metadata": {},
   "source": [
    "As a programmer, you will spend most of your time writing and using functions. Python offers many features to make your functions powerful and flexible. Let's explore some of these by solving a problem:\n",
    "\n",
    "> Radha is planning to buy a house that costs **`$1,260,000`**. She considering two options to finance her purchase:\n",
    ">\n",
    "> * Option 1: Make an immediate down payment of **`$300,000`**, and take loan 8-year loan with an interest rate of 10% (compounded monthly) for the remaining amount.\n",
    "> * Option 2: Take a 10-year loan with an interest rate of 8% (compounded monthly) for the entire amount.\n",
    ">\n",
    "> Both these loans have to be paid back in equal monthly installments (EMIs). Which loan has a lower EMI among the two?\n",
    "\n",
    "Let's write a simple function that calculates the EMI on the entire cost of the house, assuming that the loan must be paid back in one year, and there is no interest or down payment. "
   ]
  },
  {
   "cell_type": "code",
   "execution_count": 7,
   "metadata": {},
   "outputs": [],
   "source": [
    "def loan_emi(amount):\n",
    "      emi = amount/12\n",
    "      print(\"The EMI is ${:.2f}\".format(emi))"
   ]
  },
  {
   "cell_type": "code",
   "execution_count": 8,
   "metadata": {},
   "outputs": [
    {
     "name": "stdout",
     "output_type": "stream",
     "text": [
      "The EMI is $105000.00\n"
     ]
    }
   ],
   "source": [
    "loan_emi(1260000)"
   ]
  },
  {
   "cell_type": "code",
   "execution_count": 1,
   "metadata": {},
   "outputs": [],
   "source": [
    "def loan_emi(amount, duration):\n",
    "      emi = amount/duration\n",
    "      print(\"The EMI is ${:.2f}\".format(emi))"
   ]
  },
  {
   "cell_type": "markdown",
   "metadata": {},
   "source": [
    "Now, let's compare a 6-year loan vs a 10-year loan (assuming no down payment or interest)"
   ]
  },
  {
   "cell_type": "code",
   "execution_count": 2,
   "metadata": {},
   "outputs": [
    {
     "name": "stdout",
     "output_type": "stream",
     "text": [
      "The EMI is $13125.00\n"
     ]
    }
   ],
   "source": [
    "loan_emi(1260000, 8*12)"
   ]
  },
  {
   "cell_type": "code",
   "execution_count": 3,
   "metadata": {},
   "outputs": [
    {
     "name": "stdout",
     "output_type": "stream",
     "text": [
      "The EMI is $10500.00\n"
     ]
    }
   ],
   "source": [
    "loan_emi(1260000, 10*12)"
   ]
  },
  {
   "cell_type": "code",
   "execution_count": 14,
   "metadata": {},
   "outputs": [],
   "source": [
    "def loan_emi(amount, duration):\n",
    "      emi = amount/duration\n",
    "      return emi"
   ]
  },
  {
   "cell_type": "code",
   "execution_count": 12,
   "metadata": {},
   "outputs": [],
   "source": [
    "emi1 = loan_emi(1260000, 8*12)\n",
    "emi2 = loan_emi(1260000, 10*12)"
   ]
  },
  {
   "cell_type": "code",
   "execution_count": 13,
   "metadata": {},
   "outputs": [
    {
     "data": {
      "text/plain": [
       "13125.0"
      ]
     },
     "execution_count": 13,
     "metadata": {},
     "output_type": "execute_result"
    }
   ],
   "source": [
    "emi1"
   ]
  },
  {
   "cell_type": "code",
   "execution_count": 15,
   "metadata": {},
   "outputs": [
    {
     "data": {
      "text/plain": [
       "10500.0"
      ]
     },
     "execution_count": 15,
     "metadata": {},
     "output_type": "execute_result"
    }
   ],
   "source": [
    "emi2"
   ]
  },
  {
   "cell_type": "markdown",
   "metadata": {},
   "source": [
    "Next, let's add another argument to account for the immediate down payment. We'll make this an optional argument with a default value of 0."
   ]
  },
  {
   "cell_type": "code",
   "execution_count": 16,
   "metadata": {},
   "outputs": [],
   "source": [
    "def loan_emi(amount, duration, down_payment=0):\n",
    "      loan_amount = amount - down_payment\n",
    "      emi = loan_amount/duration\n",
    "      return emi"
   ]
  },
  {
   "cell_type": "code",
   "execution_count": 17,
   "metadata": {},
   "outputs": [
    {
     "data": {
      "text/plain": [
       "10000.0"
      ]
     },
     "execution_count": 17,
     "metadata": {},
     "output_type": "execute_result"
    }
   ],
   "source": [
    "emi1 = loan_emi(1260000, 8*12, 3e5)\n",
    "emi1"
   ]
  },
  {
   "cell_type": "code",
   "execution_count": 18,
   "metadata": {},
   "outputs": [
    {
     "data": {
      "text/plain": [
       "10500.0"
      ]
     },
     "execution_count": 18,
     "metadata": {},
     "output_type": "execute_result"
    }
   ],
   "source": [
    "emi2 = loan_emi(1260000, 10*12, 0)\n",
    "emi2"
   ]
  },
  {
   "cell_type": "markdown",
   "metadata": {},
   "source": [
    "Next, let's add the interest calculation into the function."
   ]
  },
  {
   "cell_type": "code",
   "execution_count": 27,
   "metadata": {},
   "outputs": [],
   "source": [
    "def loan_emi(amount, duration, rate, down_payment=0):\n",
    "      loan_amount = amount - down_payment\n",
    "      emi = (loan_amount * rate * (1+rate)**duration)/(((1+rate)**duration)-1)\n",
    "      return emi"
   ]
  },
  {
   "cell_type": "markdown",
   "metadata": {},
   "source": [
    "Let's calculate the EMI for option 1"
   ]
  },
  {
   "cell_type": "code",
   "execution_count": 28,
   "metadata": {},
   "outputs": [
    {
     "data": {
      "text/plain": [
       "14567.19753389219"
      ]
     },
     "execution_count": 28,
     "metadata": {},
     "output_type": "execute_result"
    }
   ],
   "source": [
    "loan_emi(1260000, 8*12, 0.1/12, 3e5)"
   ]
  },
  {
   "cell_type": "markdown",
   "metadata": {},
   "source": [
    "While calculating the EMI for option 2, we need not include the `down_payment` argument."
   ]
  },
  {
   "cell_type": "code",
   "execution_count": 31,
   "metadata": {},
   "outputs": [
    {
     "data": {
      "text/plain": [
       "15287.276888775077"
      ]
     },
     "execution_count": 31,
     "metadata": {},
     "output_type": "execute_result"
    }
   ],
   "source": [
    "loan_emi(1260000, 10*12,0.08/12)"
   ]
  },
  {
   "cell_type": "markdown",
   "metadata": {},
   "source": [
    "Using the **`ceil`** function from the **`math`** module to round up numbers. "
   ]
  },
  {
   "cell_type": "code",
   "execution_count": 32,
   "metadata": {},
   "outputs": [
    {
     "data": {
      "text/plain": [
       "2"
      ]
     },
     "execution_count": 32,
     "metadata": {},
     "output_type": "execute_result"
    }
   ],
   "source": [
    "import math\n",
    "math.ceil(1.25)"
   ]
  },
  {
   "cell_type": "code",
   "execution_count": 35,
   "metadata": {},
   "outputs": [],
   "source": [
    "def loan_emi(amount, duration, rate, down_payment=0):\n",
    "      loan_amount = amount - down_payment\n",
    "      emi = (loan_amount * rate * (1+rate)**duration)/(((1+rate)**duration)-1)\n",
    "      emi = math.ceil(emi)\n",
    "      return emi"
   ]
  },
  {
   "cell_type": "code",
   "execution_count": 37,
   "metadata": {},
   "outputs": [
    {
     "data": {
      "text/plain": [
       "14568"
      ]
     },
     "execution_count": 37,
     "metadata": {},
     "output_type": "execute_result"
    }
   ],
   "source": [
    "emi1 = loan_emi(amount=1260000, duration=8*12,\n",
    "                rate=0.1/12, down_payment=3e5)\n",
    "emi1"
   ]
  },
  {
   "cell_type": "markdown",
   "metadata": {},
   "source": [
    "##### Reusing and Improving Functions\n",
    "\n",
    "Using the `loan_emi()` function to solve other problems\n",
    "\n",
    "> **Q**: Shaun is currently paying back a home loan for a house he bought a few years ago. The cost of the house was `$800,000`. Shaun made a down payment of `25%` of the price. He financed the remaining amount using a 6-year loan with an interest rate of `7%` per annum (compounded monthly). Shaun is now buying a car worth `$60,000`, which he is planning to finance using a 1-year loan with an interest rate of `12%` per annum. Both loans are paid back in EMIs. What is the total monthly payment Shaun makes towards loan repayment?\n",
    "\n",
    "This question is now straightforward to solve, using the `loan_emi` function we've already defined.\n",
    "\n",
    "Then:"
   ]
  },
  {
   "cell_type": "code",
   "execution_count": 38,
   "metadata": {},
   "outputs": [],
   "source": [
    "housePrice = 800000\n",
    "house_downPayment = 0.25*housePrice\n",
    "loanDuration = 6*12\n",
    "loanRate = 0.07/12"
   ]
  },
  {
   "cell_type": "code",
   "execution_count": 39,
   "metadata": {},
   "outputs": [
    {
     "data": {
      "text/plain": [
       "10230"
      ]
     },
     "execution_count": 39,
     "metadata": {},
     "output_type": "execute_result"
    }
   ],
   "source": [
    "house_EMI = loan_emi(housePrice, loanDuration,\n",
    "                     loanRate, house_downPayment)\n",
    "house_EMI"
   ]
  },
  {
   "cell_type": "markdown",
   "metadata": {},
   "source": [
    "Now:"
   ]
  },
  {
   "cell_type": "code",
   "execution_count": 40,
   "metadata": {},
   "outputs": [],
   "source": [
    "carPrice = 60000\n",
    "carDuration = 1*12\n",
    "carRate = 0.12/12"
   ]
  },
  {
   "cell_type": "code",
   "execution_count": 41,
   "metadata": {},
   "outputs": [
    {
     "data": {
      "text/plain": [
       "5331"
      ]
     },
     "execution_count": 41,
     "metadata": {},
     "output_type": "execute_result"
    }
   ],
   "source": [
    "car_EMI = loan_emi(amount=carPrice, duration=carDuration,\n",
    "                   rate=carRate)\n",
    "car_EMI"
   ]
  },
  {
   "cell_type": "code",
   "execution_count": 42,
   "metadata": {},
   "outputs": [
    {
     "name": "stdout",
     "output_type": "stream",
     "text": [
      "Shaun makes a total monthly payment of $15561 towards loan repayments\n"
     ]
    }
   ],
   "source": [
    "print(\"Shaun makes a total monthly payment of ${} towards loan repayments\".format(house_EMI+car_EMI))"
   ]
  },
  {
   "cell_type": "markdown",
   "metadata": {},
   "source": [
    "##### Exceptions and **`try`**-**`except`**\n",
    "\n",
    "> **Q**: If you borrow $100,000 using 10-year loan with an interest rate of 9% per annum, what is the total amount you end up paying as interest?\n",
    "\n",
    "This can simply be gotten by subtracting the emi of the 10 year loan with interest from the emi of the 10 year loan with interest added."
   ]
  },
  {
   "cell_type": "code",
   "execution_count": 44,
   "metadata": {},
   "outputs": [
    {
     "data": {
      "text/plain": [
       "1267"
      ]
     },
     "execution_count": 44,
     "metadata": {},
     "output_type": "execute_result"
    }
   ],
   "source": [
    "emi_with_interest = loan_emi(amount=100000, duration=10*12,\n",
    "                             rate=0.09/12)\n",
    "emi_with_interest"
   ]
  },
  {
   "cell_type": "code",
   "execution_count": 45,
   "metadata": {},
   "outputs": [
    {
     "ename": "ZeroDivisionError",
     "evalue": "division by zero",
     "output_type": "error",
     "traceback": [
      "\u001b[1;31m---------------------------------------------------------------------------\u001b[0m",
      "\u001b[1;31mZeroDivisionError\u001b[0m                         Traceback (most recent call last)",
      "\u001b[1;32m~\\AppData\\Local\\Temp\\ipykernel_732\\4126599179.py\u001b[0m in \u001b[0;36m<module>\u001b[1;34m\u001b[0m\n\u001b[1;32m----> 1\u001b[1;33m emi_without_interest = loan_emi(amount=100000, duration=10*12,\n\u001b[0m\u001b[0;32m      2\u001b[0m                              rate=0)\n\u001b[0;32m      3\u001b[0m \u001b[0memi_without_interest\u001b[0m\u001b[1;33m\u001b[0m\u001b[1;33m\u001b[0m\u001b[0m\n",
      "\u001b[1;32m~\\AppData\\Local\\Temp\\ipykernel_732\\3890821980.py\u001b[0m in \u001b[0;36mloan_emi\u001b[1;34m(amount, duration, rate, down_payment)\u001b[0m\n\u001b[0;32m      1\u001b[0m \u001b[1;32mdef\u001b[0m \u001b[0mloan_emi\u001b[0m\u001b[1;33m(\u001b[0m\u001b[0mamount\u001b[0m\u001b[1;33m,\u001b[0m \u001b[0mduration\u001b[0m\u001b[1;33m,\u001b[0m \u001b[0mrate\u001b[0m\u001b[1;33m,\u001b[0m \u001b[0mdown_payment\u001b[0m\u001b[1;33m=\u001b[0m\u001b[1;36m0\u001b[0m\u001b[1;33m)\u001b[0m\u001b[1;33m:\u001b[0m\u001b[1;33m\u001b[0m\u001b[1;33m\u001b[0m\u001b[0m\n\u001b[0;32m      2\u001b[0m       \u001b[0mloan_amount\u001b[0m \u001b[1;33m=\u001b[0m \u001b[0mamount\u001b[0m \u001b[1;33m-\u001b[0m \u001b[0mdown_payment\u001b[0m\u001b[1;33m\u001b[0m\u001b[1;33m\u001b[0m\u001b[0m\n\u001b[1;32m----> 3\u001b[1;33m       \u001b[0memi\u001b[0m \u001b[1;33m=\u001b[0m \u001b[1;33m(\u001b[0m\u001b[0mloan_amount\u001b[0m \u001b[1;33m*\u001b[0m \u001b[0mrate\u001b[0m \u001b[1;33m*\u001b[0m \u001b[1;33m(\u001b[0m\u001b[1;36m1\u001b[0m\u001b[1;33m+\u001b[0m\u001b[0mrate\u001b[0m\u001b[1;33m)\u001b[0m\u001b[1;33m**\u001b[0m\u001b[0mduration\u001b[0m\u001b[1;33m)\u001b[0m\u001b[1;33m/\u001b[0m\u001b[1;33m(\u001b[0m\u001b[1;33m(\u001b[0m\u001b[1;33m(\u001b[0m\u001b[1;36m1\u001b[0m\u001b[1;33m+\u001b[0m\u001b[0mrate\u001b[0m\u001b[1;33m)\u001b[0m\u001b[1;33m**\u001b[0m\u001b[0mduration\u001b[0m\u001b[1;33m)\u001b[0m\u001b[1;33m-\u001b[0m\u001b[1;36m1\u001b[0m\u001b[1;33m)\u001b[0m\u001b[1;33m\u001b[0m\u001b[1;33m\u001b[0m\u001b[0m\n\u001b[0m\u001b[0;32m      4\u001b[0m       \u001b[0memi\u001b[0m \u001b[1;33m=\u001b[0m \u001b[0mmath\u001b[0m\u001b[1;33m.\u001b[0m\u001b[0mceil\u001b[0m\u001b[1;33m(\u001b[0m\u001b[0memi\u001b[0m\u001b[1;33m)\u001b[0m\u001b[1;33m\u001b[0m\u001b[1;33m\u001b[0m\u001b[0m\n\u001b[0;32m      5\u001b[0m       \u001b[1;32mreturn\u001b[0m \u001b[0memi\u001b[0m\u001b[1;33m\u001b[0m\u001b[1;33m\u001b[0m\u001b[0m\n",
      "\u001b[1;31mZeroDivisionError\u001b[0m: division by zero"
     ]
    }
   ],
   "source": [
    "'''\n",
    "emi_without_interest = loan_emi(amount=100000, duration=10*12,\n",
    "                             rate=0)\n",
    "emi_without_interest\n",
    "'''"
   ]
  },
  {
   "cell_type": "markdown",
   "metadata": {},
   "source": [
    "Let's enhance the **`loan_emi()`** to be able to handle an interest rate of 0%"
   ]
  },
  {
   "cell_type": "code",
   "execution_count": 46,
   "metadata": {},
   "outputs": [],
   "source": [
    "def loan_emi(amount, duration, rate, down_payment=0):\n",
    "      loan_amount = amount - down_payment\n",
    "      try:\n",
    "            emi = (loan_amount * rate * (1+rate)**duration)/(((1+rate)**duration)-1)\n",
    "      except ZeroDivisionError:\n",
    "            emi = loan_amount/duration\n",
    "      emi = math.ceil(emi)\n",
    "      return emi"
   ]
  },
  {
   "cell_type": "code",
   "execution_count": 47,
   "metadata": {},
   "outputs": [
    {
     "data": {
      "text/plain": [
       "834"
      ]
     },
     "execution_count": 47,
     "metadata": {},
     "output_type": "execute_result"
    }
   ],
   "source": [
    "emi_without_interest = loan_emi(amount=100000, duration=10*12,\n",
    "                             rate=0)\n",
    "emi_without_interest"
   ]
  },
  {
   "cell_type": "code",
   "execution_count": 48,
   "metadata": {},
   "outputs": [],
   "source": [
    "total_interest = (emi_with_interest - emi_without_interest)*12*10"
   ]
  },
  {
   "cell_type": "code",
   "execution_count": 49,
   "metadata": {},
   "outputs": [
    {
     "name": "stdout",
     "output_type": "stream",
     "text": [
      "The total interest paid is $51960.\n"
     ]
    }
   ],
   "source": [
    "print(\"The total interest paid is ${}.\".format(total_interest))"
   ]
  },
  {
   "cell_type": "markdown",
   "metadata": {},
   "source": [
    "Documenting functions using Docstrings"
   ]
  },
  {
   "cell_type": "code",
   "execution_count": 1,
   "metadata": {},
   "outputs": [],
   "source": [
    "def loan_emi(amount, duration, rate, down_payment=0):\n",
    "      '''\n",
    "      Calculates the equal monthly installment (EMI) for a loan.\n",
    "      \n",
    "      Arguments:\n",
    "            amount - Total amount to be spent (loan + down payment)\n",
    "            duration - Duration of the loan (in months)\n",
    "            rate - Rate of interest (monthly)\n",
    "            down_payment (optional) - Option initial payment (deducted from amount)\n",
    "      '''\n",
    "      loan_amount = amount - down_payment\n",
    "      try:\n",
    "            emi = (loan_amount * rate * (1+rate)**duration)/(((1+rate)**duration)-1)\n",
    "      except ZeroDivisionError:\n",
    "            emi = loan_amount/duration\n",
    "      emi = math.ceil(emi)\n",
    "      return emi"
   ]
  },
  {
   "cell_type": "code",
   "execution_count": 4,
   "metadata": {},
   "outputs": [
    {
     "name": "stdout",
     "output_type": "stream",
     "text": [
      "Help on function loan_emi in module __main__:\n",
      "\n",
      "loan_emi(amount, duration, rate, down_payment=0)\n",
      "    Calculates the equal monthly installment (EMI) for a loan.\n",
      "    \n",
      "    Arguments:\n",
      "          amount - Total amount to be spent (loan + down payment)\n",
      "          duration - Duration of the loan (in months)\n",
      "          rate - Rate of interest (monthly)\n",
      "          down_payment (optional) - Option initial payment (deducted from amount)\n",
      "\n"
     ]
    }
   ],
   "source": [
    "help(loan_emi)"
   ]
  },
  {
   "cell_type": "markdown",
   "metadata": {},
   "source": [
    "### Exercise - Data Analysis for Vacation Planning\n",
    "\n",
    "You're planning a vacation, and you need to decide which city you want to visit. You have shortlisted four cities and identified the return flight cost, daily hotel cost, and weekly car rental cost. While renting a car, you need to pay for entire weeks, even if you return the car sooner.\n",
    "\n",
    "\n",
    "| City | Return Flight (`$`) | Hotel per day (`$`) | Weekly Car Rental  (`$`) | \n",
    "|------|--------------------------|------------------|------------------------|\n",
    "| Paris|       200                |       20         |          200           |\n",
    "| London|      250                |       30         |          120           |\n",
    "| Dubai|       370                |       15         |          80           |\n",
    "| Mumbai|      450                |       10         |          70           |         \n",
    "\n",
    "\n",
    "Answer the following questions using the data above:\n",
    "\n",
    "1. If you're planning a 1-week long trip, which city should you visit to spend the least amount of money?\n",
    "2. How does the answer to the previous question change if you change the trip's duration to four days, ten days or two weeks?\n",
    "3. If your total budget for the trip is `$1000`, which city should you visit to maximize the duration of your trip? Which city should you visit if you want to minimize the duration?\n",
    "4. How does the answer to the previous question change if your budget is `$600`, `$2000`, or `$1500`?\n",
    "\n",
    "*Hint: To answer these questions, it will help to define a function `cost_of_trip` with relevant inputs like flight cost, hotel rate, car rental rate, and duration of the trip. You may find the `math.ceil` function useful for calculating the total cost of car rental.*"
   ]
  },
  {
   "cell_type": "code",
   "execution_count": 8,
   "metadata": {},
   "outputs": [],
   "source": [
    "def cost_of_trip(returnFlight, hotelRate, carRentalCost, duration):\n",
    "      '''\n",
    "      A function that helps determine the cost of trip.\n",
    "      \n",
    "      Arguments:\n",
    "            returnFlight - Cost of return flight ($)\n",
    "            hotelRate - Hotel cost per day (days)\n",
    "            carRentalCost - Weekly car rental cost ($)\n",
    "            duration - Number of days spent (days)\n",
    "      '''\n",
    "      import math\n",
    "      weeks = math.ceil(duration/7)\n",
    "      weeklyCarRental = carRentalCost * weeks\n",
    "      weeklyHotelCost = hotelRate * duration\n",
    "      \n",
    "      costOfTrip = returnFlight + weeklyHotelCost + weeklyCarRental\n",
    "      \n",
    "      return costOfTrip  "
   ]
  },
  {
   "cell_type": "code",
   "execution_count": 9,
   "metadata": {},
   "outputs": [
    {
     "name": "stdout",
     "output_type": "stream",
     "text": [
      "Help on function cost_of_trip in module __main__:\n",
      "\n",
      "cost_of_trip(returnFlight, hotelRate, carRentalCost, duration)\n",
      "    A function that helps determine the cost of trip.\n",
      "    \n",
      "    Arguments:\n",
      "          returnFlight - Cost of return flight ($)\n",
      "          hotelRate - Hotel cost per day (days)\n",
      "          carRentalCost - Weekly car rental cost ($)\n",
      "          duration - Number of days spent (days)\n",
      "\n"
     ]
    }
   ],
   "source": [
    "help(cost_of_trip)"
   ]
  },
  {
   "cell_type": "code",
   "execution_count": 13,
   "metadata": {},
   "outputs": [],
   "source": [
    "import pandas as pd\n",
    "\n",
    "city = ['Paris', 'London', 'Dubai', 'Mumbai']\n",
    "returnFlight = [200, 250, 370, 450]\n",
    "hotelPerDay = [20, 30, 15, 10]\n",
    "weeklyCarRental = [200, 120, 80, 70]\n",
    "\n",
    "itinerary= {\"City\": city, \n",
    "            \"Return Flight ($)\": returnFlight,\n",
    "            \"Hotel per day ($)\": hotelPerDay, \n",
    "            \"Weekly Car Rental ($)\": weeklyCarRental} \n",
    "\n",
    "itinerary_df = pd.DataFrame(itinerary)"
   ]
  },
  {
   "cell_type": "code",
   "execution_count": 14,
   "metadata": {},
   "outputs": [
    {
     "data": {
      "text/html": [
       "<div>\n",
       "<style scoped>\n",
       "    .dataframe tbody tr th:only-of-type {\n",
       "        vertical-align: middle;\n",
       "    }\n",
       "\n",
       "    .dataframe tbody tr th {\n",
       "        vertical-align: top;\n",
       "    }\n",
       "\n",
       "    .dataframe thead th {\n",
       "        text-align: right;\n",
       "    }\n",
       "</style>\n",
       "<table border=\"1\" class=\"dataframe\">\n",
       "  <thead>\n",
       "    <tr style=\"text-align: right;\">\n",
       "      <th></th>\n",
       "      <th>City</th>\n",
       "      <th>Return Flight ($)</th>\n",
       "      <th>Hotel per day ($)</th>\n",
       "      <th>Weekly Car Rental ($)</th>\n",
       "    </tr>\n",
       "  </thead>\n",
       "  <tbody>\n",
       "    <tr>\n",
       "      <th>0</th>\n",
       "      <td>Paris</td>\n",
       "      <td>200</td>\n",
       "      <td>20</td>\n",
       "      <td>200</td>\n",
       "    </tr>\n",
       "    <tr>\n",
       "      <th>1</th>\n",
       "      <td>London</td>\n",
       "      <td>250</td>\n",
       "      <td>30</td>\n",
       "      <td>120</td>\n",
       "    </tr>\n",
       "    <tr>\n",
       "      <th>2</th>\n",
       "      <td>Dubai</td>\n",
       "      <td>370</td>\n",
       "      <td>15</td>\n",
       "      <td>80</td>\n",
       "    </tr>\n",
       "    <tr>\n",
       "      <th>3</th>\n",
       "      <td>Mumbai</td>\n",
       "      <td>450</td>\n",
       "      <td>10</td>\n",
       "      <td>70</td>\n",
       "    </tr>\n",
       "  </tbody>\n",
       "</table>\n",
       "</div>"
      ],
      "text/plain": [
       "     City  Return Flight ($)  Hotel per day ($)  Weekly Car Rental ($)\n",
       "0   Paris                200                 20                    200\n",
       "1  London                250                 30                    120\n",
       "2   Dubai                370                 15                     80\n",
       "3  Mumbai                450                 10                     70"
      ]
     },
     "execution_count": 14,
     "metadata": {},
     "output_type": "execute_result"
    }
   ],
   "source": [
    "itinerary_df"
   ]
  },
  {
   "cell_type": "markdown",
   "metadata": {},
   "source": [
    "#### Question 1"
   ]
  },
  {
   "cell_type": "code",
   "execution_count": 51,
   "metadata": {},
   "outputs": [
    {
     "name": "stdout",
     "output_type": "stream",
     "text": [
      "Your city of choice should be Paris because you'd spend a total of $540 while there\n"
     ]
    }
   ],
   "source": [
    "def itineraryPlanner(duration):\n",
    "      '''\n",
    "      Helps you find the least expensive trip to go for\n",
    "      \n",
    "      Arguments:\n",
    "            duration = how many days is the trip for? (days)\n",
    "      '''\n",
    "      \n",
    "      ## creating dataset to judge from\n",
    "      import pandas as pd\n",
    "\n",
    "      city = ['Paris', 'London', 'Dubai', 'Mumbai']\n",
    "      returnFlight = [200, 250, 370, 450]\n",
    "      hotelPerDay = [20, 30, 15, 10]\n",
    "      weeklyCarRental = [200, 120, 80, 70]\n",
    "\n",
    "      itinerary= {\"City\": city, \n",
    "                  \"Return Flight ($)\": returnFlight,\n",
    "                  \"Hotel per day ($)\": hotelPerDay, \n",
    "                  \"Weekly Car Rental ($)\": weeklyCarRental} \n",
    "\n",
    "      itinerary_df = pd.DataFrame(itinerary)\n",
    "      \n",
    "      i = 0\n",
    "      costOfTrip = []\n",
    "      place = []\n",
    "\n",
    "      for city in itinerary_df[\"City\"]:\n",
    "            cost = cost_of_trip(returnFlight=itinerary_df.iloc[i,1],\n",
    "                                    hotelRate=itinerary_df.iloc[i,2],\n",
    "                                    carRentalCost=itinerary_df.iloc[i,3],\n",
    "                                    duration=duration)\n",
    "            place.append(city)\n",
    "            costOfTrip.append(cost)\n",
    "            i += 1\n",
    "      df = pd.DataFrame({\"City\": place, \"Cost of Trip\": costOfTrip})\n",
    "      df = df.sort_values(by=\"Cost of Trip\", ignore_index=True)\n",
    "\n",
    "      print(\"Your city of choice should be {} because you'd spend a total of ${} while there\".format(df.iloc[0,0], df.iloc[0,1]))\n",
    "\n",
    "itineraryPlanner(7)\n",
    "      "
   ]
  },
  {
   "cell_type": "markdown",
   "metadata": {},
   "source": [
    "#### Question 2"
   ]
  },
  {
   "cell_type": "code",
   "execution_count": 54,
   "metadata": {},
   "outputs": [
    {
     "name": "stdout",
     "output_type": "stream",
     "text": [
      "Your city of choice should be Paris because you'd spend a total of $480 while there\n"
     ]
    }
   ],
   "source": [
    "## If the trip is for 4 days\n",
    "\n",
    "itineraryPlanner(duration=4)"
   ]
  },
  {
   "cell_type": "code",
   "execution_count": 55,
   "metadata": {},
   "outputs": [
    {
     "name": "stdout",
     "output_type": "stream",
     "text": [
      "Your city of choice should be Dubai because you'd spend a total of $680 while there\n"
     ]
    }
   ],
   "source": [
    "## If the trip is for 10 days\n",
    "\n",
    "itineraryPlanner(duration=10)"
   ]
  },
  {
   "cell_type": "code",
   "execution_count": 56,
   "metadata": {},
   "outputs": [
    {
     "name": "stdout",
     "output_type": "stream",
     "text": [
      "Your city of choice should be Mumbai because you'd spend a total of $730 while there\n"
     ]
    }
   ],
   "source": [
    "## If the trip is for 2 weeks\n",
    "\n",
    "itineraryPlanner(duration=2*7)"
   ]
  },
  {
   "cell_type": "markdown",
   "metadata": {},
   "source": [
    "#### Question 3"
   ]
  },
  {
   "cell_type": "code",
   "execution_count": 91,
   "metadata": {},
   "outputs": [],
   "source": [
    "def itineraryBudget(budget, maximize=True):\n",
    "      '''\n",
    "      Helps you find the trip that maximizes or minimizes your duration based\n",
    "      on your budget\n",
    "      \n",
    "      Arguments:\n",
    "            budget = budget in $\n",
    "            maximize = 'True' if you want the trip with the max number of days per budget\n",
    "                       'False' if you want the trip with the min duration per budget.\n",
    "      '''\n",
    "      \n",
    "      ## creating dataset to work with\n",
    "      import pandas as pd\n",
    "\n",
    "      city = ['Paris', 'London', 'Dubai', 'Mumbai']\n",
    "      returnFlight = [200, 250, 370, 450]\n",
    "      hotelPerDay = [20, 30, 15, 10]\n",
    "      weeklyCarRental = [200, 120, 80, 70]\n",
    "\n",
    "      itinerary= {\"City\": city, \n",
    "                  \"Return Flight ($)\": returnFlight,\n",
    "                  \"Hotel per day ($)\": hotelPerDay, \n",
    "                  \"Weekly Car Rental ($)\": weeklyCarRental} \n",
    "\n",
    "      itinerary_df = pd.DataFrame(itinerary)\n",
    "      \n",
    "      # creating empty lists and initial variables\n",
    "      costOfTrip = []\n",
    "      place = []\n",
    "      time = []\n",
    "      i = 0\n",
    "\n",
    "      # iterating through the city \n",
    "      for city in itinerary_df[\"City\"]:\n",
    "            cost = 0\n",
    "            duration = 1\n",
    "            while cost <= budget:\n",
    "                  cost = cost_of_trip(returnFlight=itinerary_df.iloc[i,1],\n",
    "                                   hotelRate=itinerary_df.iloc[i,2],\n",
    "                                   carRentalCost=itinerary_df.iloc[i,3],\n",
    "                                   duration=duration)\n",
    "                  duration += 1\n",
    "            # since the returned cost and duration is more than what we want\n",
    "            # we need to get the right ones\n",
    "            duration -= 2\n",
    "            cost = cost_of_trip(returnFlight=itinerary_df.iloc[i,1],\n",
    "                                hotelRate=itinerary_df.iloc[i,2],\n",
    "                                carRentalCost=itinerary_df.iloc[i,3],\n",
    "                                duration=duration)\n",
    "            costOfTrip.append(cost)\n",
    "            place.append(city)\n",
    "            time.append(duration)\n",
    "            i += 1\n",
    "      \n",
    "      df = pd.DataFrame({\"City\": place,\n",
    "                         \"Cost of Trip ($)\": costOfTrip,\n",
    "                         \"Duration (days)\": time})\n",
    "      \n",
    "      if maximize == True:\n",
    "            df = df.sort_values(by=[\"Duration (days)\", \"Cost of Trip ($)\"], ignore_index=True, ascending=False)\n",
    "            print(\"With a ${} budget, considering going to {} for {} days which costs ${}\"\\\n",
    "                  .format(budget, df.iloc[0,0], df.iloc[0,2], df.iloc[0,1]))\n",
    "      else:\n",
    "            df = df.sort_values(by=[\"Duration (days)\", \"Cost of Trip ($)\"], ignore_index=True, ascending=True)\n",
    "            print(\"With a ${} budget, considering going to {} for {} days which costs ${}\"\\\n",
    "                  .format(budget, df.iloc[0,0], df.iloc[0,2], df.iloc[0,1]))\n",
    "      \n",
    "\n",
    "      "
   ]
  },
  {
   "cell_type": "code",
   "execution_count": 96,
   "metadata": {},
   "outputs": [
    {
     "name": "stdout",
     "output_type": "stream",
     "text": [
      "With a $1000 budget, considering going to Mumbai for 27 days which costs $1000\n"
     ]
    }
   ],
   "source": [
    "itineraryBudget(1000, maximize=True)"
   ]
  },
  {
   "cell_type": "code",
   "execution_count": 97,
   "metadata": {},
   "outputs": [
    {
     "name": "stdout",
     "output_type": "stream",
     "text": [
      "With a $1000 budget, considering going to Paris for 14 days which costs $880\n"
     ]
    }
   ],
   "source": [
    "itineraryBudget(1000, maximize=False)"
   ]
  },
  {
   "cell_type": "markdown",
   "metadata": {},
   "source": [
    "#### Question 4"
   ]
  },
  {
   "cell_type": "code",
   "execution_count": 94,
   "metadata": {},
   "outputs": [
    {
     "name": "stdout",
     "output_type": "stream",
     "text": [
      "With a $600 budget, considering going to Mumbai for 7 days which costs $590\n"
     ]
    }
   ],
   "source": [
    "itineraryBudget(600, maximize=True)"
   ]
  },
  {
   "cell_type": "code",
   "execution_count": 95,
   "metadata": {},
   "outputs": [
    {
     "name": "stdout",
     "output_type": "stream",
     "text": [
      "With a $600 budget, considering going to Paris for 7 days which costs $540\n"
     ]
    }
   ],
   "source": [
    "itineraryBudget(600, maximize=False)"
   ]
  },
  {
   "cell_type": "code",
   "execution_count": 90,
   "metadata": {},
   "outputs": [
    {
     "name": "stdout",
     "output_type": "stream",
     "text": [
      "     City  Cost of Trip ($)  Duration (days)\n",
      "0  Mumbai              1990               77\n",
      "1   Dubai              1990               60\n",
      "2   Paris              1900               35\n",
      "3  London              1900               35\n",
      "With a $2000 budget, considering going to Mumbai for 77 days which costs $1990\n"
     ]
    }
   ],
   "source": [
    "itineraryBudget(2000, maximize=True)"
   ]
  },
  {
   "cell_type": "code",
   "execution_count": 73,
   "metadata": {},
   "outputs": [
    {
     "name": "stdout",
     "output_type": "stream",
     "text": [
      "With a $2000 budget, considering going to Paris for 35 days which costs $1900\n"
     ]
    }
   ],
   "source": [
    "itineraryBudget(2000, maximize=False)"
   ]
  },
  {
   "cell_type": "code",
   "execution_count": 74,
   "metadata": {},
   "outputs": [
    {
     "name": "stdout",
     "output_type": "stream",
     "text": [
      "With a $1500 budget, considering going to Mumbai for 49 days which costs $1430\n"
     ]
    }
   ],
   "source": [
    "itineraryBudget(1500, maximize=True)"
   ]
  },
  {
   "cell_type": "code",
   "execution_count": 100,
   "metadata": {},
   "outputs": [
    {
     "name": "stdout",
     "output_type": "stream",
     "text": [
      "With a $1500 budget, considering going to London for 25 days which costs $1480\n"
     ]
    }
   ],
   "source": [
    "itineraryBudget(1500, maximize=False)"
   ]
  }
 ],
 "metadata": {
  "kernelspec": {
   "display_name": "Python 3.9.7 ('base')",
   "language": "python",
   "name": "python3"
  },
  "language_info": {
   "codemirror_mode": {
    "name": "ipython",
    "version": 3
   },
   "file_extension": ".py",
   "mimetype": "text/x-python",
   "name": "python",
   "nbconvert_exporter": "python",
   "pygments_lexer": "ipython3",
   "version": "3.9.7"
  },
  "orig_nbformat": 4,
  "vscode": {
   "interpreter": {
    "hash": "1206a4f2d6f64ed28b08c3544e67299a5b762789ddcc45660f3f6eefedb1bf11"
   }
  }
 },
 "nbformat": 4,
 "nbformat_minor": 2
}
